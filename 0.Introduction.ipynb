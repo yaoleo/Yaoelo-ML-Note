{
 "cells": [
  {
   "cell_type": "markdown",
   "metadata": {},
   "source": [
    "# Table Content\n",
    "1. Introduction\n",
    "    + ML\n",
    "    + Supervised Learning\n",
    "    + Unsupervised Learning\n",
    "2.  Linear regression \n",
    "    + Linear regression with one variable\n",
    "    + Linear regression with multiple variables"
   ]
  },
  {
   "cell_type": "markdown",
   "metadata": {},
   "source": [
    "# Introduction\n",
    "这笔记主要是学coursera课的记录，之前五月份左右开始看了两周，后面各种忙毕设就暂停了，昨天开始继续做，看了一眼原来的记录，一片混乱，恰好发现大佬都用这个做笔记，重新整理一下。\n",
    "不知道按什么划分，感觉按编程作业划分比较合适。这第一篇主要放背景知识和目录吧。"
   ]
  },
  {
   "cell_type": "markdown",
   "metadata": {},
   "source": [
    "## ML\n",
    "### Definition\n",
    "+ The field of study that gives computers the ability to learn without being explicitly programmed.\n",
    "\n",
    "+ A computer program is said to learn from experience E with respect to some class of tasks T and performance measure P, if its performance at tasks in T, as measured by P, improves with experience E.\n",
    "\n",
    "就相当于，给定自变量和函数的解，求函数。\n",
    "\n",
    "类似于：这样：function（x）=y\n",
    "\n",
    "机器学习就是样本中有大量的x（特征量）和y（目标变量）然后求这个function。\n",
    "\n",
    "### Classfication\n",
    "+ Supervised Learning \n",
    "+ Unsupervised Learning \n",
    "+ Reinforcement learning\n",
    "+ Recommender systems"
   ]
  },
  {
   "cell_type": "markdown",
   "metadata": {},
   "source": [
    "## Supervised Learning\n",
    "### Classfication\n",
    "+ classification \n",
    "+ regression"
   ]
  },
  {
   "cell_type": "markdown",
   "metadata": {},
   "source": [
    "##  Unsupervised Learning\n",
    "### Classfication\n",
    "+ clustering 聚类"
   ]
  }
 ],
 "metadata": {
  "kernelspec": {
   "display_name": "Python 2",
   "language": "python",
   "name": "python2"
  },
  "language_info": {
   "codemirror_mode": {
    "name": "ipython",
    "version": 2
   },
   "file_extension": ".py",
   "mimetype": "text/x-python",
   "name": "python",
   "nbconvert_exporter": "python",
   "pygments_lexer": "ipython2",
   "version": "2.7.13"
  }
 },
 "nbformat": 4,
 "nbformat_minor": 2
}
