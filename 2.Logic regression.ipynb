{
 "cells": [
  {
   "cell_type": "markdown",
   "metadata": {
    "collapsed": true
   },
   "source": [
    "# 2. Logic Regression\n",
    "## 2.1 Logic regression with one variable\n",
    "In this part of the exercise, you will build a **logistic regression** model to predict **whether** a student gets admitted into a university.\n",
    "\n",
    "Suppose that you are the administrator of a university department and you want to determine each applicant’s chance of admission based on their results on two exams. \n",
    "\n",
    "You have historical data from previous applicants that you can use as a training set for logistic regression. \n",
    "For each training example, you have the applicant’s scores on two exams and the admissions decision.\n",
    "\n",
    "Your task is to build a classification model that estimates an applicant’s probability of admission based the scores from those two exams. This outline and the framework code in ex2.m will guide you through the exercise.\n"
   ]
  },
  {
   "cell_type": "markdown",
   "metadata": {},
   "source": [
    "### 2.1.1 Visualizing the data"
   ]
  },
  {
   "cell_type": "code",
   "execution_count": 7,
   "metadata": {},
   "outputs": [
    {
     "data": {
      "image/png": "[encoded data removed]",
      "text/plain": [
       "<matplotlib.figure.Figure at 0x8a0cba8>"
      ]
     },
     "metadata": {},
     "output_type": "display_data"
    }
   ],
   "source": [
    "%matplotlib inline\n",
    "import numpy as np\n",
    "import matplotlib.pyplot as plt\n",
    "\n",
    "fname = \"data/ex2data1.txt\"\n",
    "cols = np.loadtxt(fname, delimiter=',', unpack='True')\n",
    "\n",
    "X = cols[:1]\n",
    "Y = cols[1:2]\n",
    "Z = cols[2:]\n",
    "m = Y.size\n",
    "X = np.array(X).reshape(m,1)\n",
    "Y = np.array(Y).reshape(m,1)\n",
    "Z = np.array(Z).reshape(m,1)\n",
    "L = np.hstack((X,Y,Z)) # 坐标 \n",
    "#print L\n",
    "\n",
    "admitted,notadmitted = [],[]\n",
    "for x in L:\n",
    "    if x[2] == 1:\n",
    "        admitted.append(x)\n",
    "    else:\n",
    "        notadmitted.append(x)\n",
    "admitted = np.array(admitted)\n",
    "notadmitted= np.array(notadmitted)\n",
    "plt.figure(figsize=(10,6))\n",
    "plt.xlabel('Exam 1 score')\n",
    "plt.ylabel('Exam 2 score')\n",
    "\n",
    "plt.plot(admitted[:,0],admitted[:,1],'k+',label='Admitted')\n",
    "plt.plot(notadmitted[:,0],notadmitted[:,1],'yo',label='Not admitted')\n",
    "plt.legend()\n",
    "plt.grid(True)"
   ]
  },
  {
   "cell_type": "code",
   "execution_count": 11,
   "metadata": {},
   "outputs": [
    {
     "data": {
      "text/plain": [
       "0.6931471805599541"
      ]
     },
     "execution_count": 11,
     "metadata": {},
     "output_type": "execute_result"
    }
   ],
   "source": [
    "def h(mytheta,myX):\n",
    "    return g(np.dot(myX,mytheta))\n",
    "\n",
    "from scipy.special import expit #Vectorized sigmoid function\n",
    "def g(z):\n",
    "    return expit(z)\n",
    "\n",
    "#Cost function, default lambda (regularization) 0\n",
    "def computeCost(mytheta,myX,myy,mylambda = 0.): \n",
    "    \"\"\"\n",
    "    theta_start is an n- dimensional vector of initial theta guess\n",
    "    X is matrix with n- columns and m- rows\n",
    "    y is a matrix with m- rows and 1 column\n",
    "    Note this includes regularization, if you set mylambda to nonzero\n",
    "    For the first part of the homework, the default 0. is used for mylambda\n",
    "    \"\"\"\n",
    "    #note to self: *.shape is (rows, columns)\n",
    "    term1 = np.dot(-np.array(myy).T,np.log(h(mytheta,myX)))\n",
    "    term2 = np.dot((1-np.array(myy)).T,np.log(1-h(mytheta,myX)))\n",
    "    regterm = (mylambda/2) * np.sum(np.dot(mytheta[1:].T,mytheta[1:])) #Skip theta0\n",
    "    return float( (1./m) * ( np.sum(term1 - term2) + regterm ) )\n",
    "\n",
    "#Check that with theta as zeros, cost returns about 0.693:\n",
    "initial_theta = np.zeros((X.shape[1],1))\n",
    "computeCost(initial_theta,X,Y)"
   ]
  },
  {
   "cell_type": "code",
   "execution_count": null,
   "metadata": {
    "collapsed": true
   },
   "outputs": [],
   "source": []
  }
 ],
 "metadata": {
  "kernelspec": {
   "display_name": "Python 2",
   "language": "python",
   "name": "python2"
  },
  "language_info": {
   "codemirror_mode": {
    "name": "ipython",
    "version": 2
   },
   "file_extension": ".py",
   "mimetype": "text/x-python",
   "name": "python",
   "nbconvert_exporter": "python",
   "pygments_lexer": "ipython2",
   "version": "2.7.13"
  }
 },
 "nbformat": 4,
 "nbformat_minor": 2
}
